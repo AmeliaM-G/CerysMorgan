{
  "nbformat": 4,
  "nbformat_minor": 0,
  "metadata": {
    "colab": {
      "name": "Cleanup.ipynb",
      "provenance": [],
      "collapsed_sections": [],
      "authorship_tag": "ABX9TyPUh7UCx+WLsVEBgymA4XTD",
      "include_colab_link": true
    },
    "kernelspec": {
      "name": "python3",
      "display_name": "Python 3"
    }
  },
  "cells": [
    {
      "cell_type": "markdown",
      "metadata": {
        "id": "view-in-github",
        "colab_type": "text"
      },
      "source": [
        "<a href=\"https://colab.research.google.com/github/AmeliaM-G/CerysMorgan/blob/master/Cleanup.ipynb\" target=\"_parent\"><img src=\"https://colab.research.google.com/assets/colab-badge.svg\" alt=\"Open In Colab\"/></a>"
      ]
    },
    {
      "cell_type": "code",
      "metadata": {
        "id": "VP8jHDix137r"
      },
      "source": [
        "# !pip install constants\r\n",
        "# !pip install yfinance\r\n",
        "# !pip install ProjectHelper\r\n"
      ],
      "execution_count": null,
      "outputs": []
    },
    {
      "cell_type": "code",
      "metadata": {
        "colab": {
          "base_uri": "https://localhost:8080/"
        },
        "id": "E6kmczKA1nx4",
        "outputId": "f5200955-79a6-4325-b251-614e9f576b87"
      },
      "source": [
        "import pandas as pd\r\n",
        "import datetime\r\n",
        "import requests\r\n",
        "from urllib.request import urlopen, Request\r\n",
        "import matplotlib.pyplot as plt\r\n",
        "from bs4 import BeautifulSoup\r\n",
        "import constants\r\n",
        "\r\n",
        "import nltk\r\n",
        "nltk.download('vader_lexicon')\r\n",
        "from nltk.sentiment.vader import SentimentIntensityAnalyzer\r\n",
        "import pickle\r\n",
        "from unicodedata import normalize\r\n",
        "import yfinance as yf\r\n",
        "pd.set_option('display.max_colwidth', None)\r\n",
        "\r\n",
        "ticker = 'CCL'\r\n",
        "website = 'finviz'\r\n",
        "outdir = 'parsed_data/'\r\n",
        "date_from = '2020-01-01'\r\n",
        "date_to = '2021-03-05'"
      ],
      "execution_count": null,
      "outputs": [
        {
          "output_type": "stream",
          "text": [
            "[nltk_data] Downloading package vader_lexicon to /root/nltk_data...\n",
            "[nltk_data]   Package vader_lexicon is already up-to-date!\n"
          ],
          "name": "stdout"
        },
        {
          "output_type": "stream",
          "text": [
            "/usr/local/lib/python3.7/dist-packages/nltk/twitter/__init__.py:20: UserWarning: The twython library has not been installed. Some functionality from the twitter package will not be available.\n",
            "  warnings.warn(\"The twython library has not been installed. \"\n"
          ],
          "name": "stderr"
        }
      ]
    },
    {
      "cell_type": "code",
      "metadata": {
        "id": "37ip2d8uTB_n"
      },
      "source": [
        "# import numpy as np\r\n",
        "# import pprint\r\n",
        "\r\n",
        "\r\n",
        "# from tqdm import tqdm\r\n",
        "# nltk.download('stopwords')\r\n",
        "# nltk.download('wordnet')"
      ],
      "execution_count": null,
      "outputs": []
    },
    {
      "cell_type": "code",
      "metadata": {
        "id": "gxaMYBgO1sG0"
      },
      "source": [
        "data = {\"symbol\": ticker,\r\n",
        "        \"from\": date_from,\r\n",
        "        \"to\": date_to,\r\n",
        "        \"token\": 'c136sln48v6rj20aadv0'} \r\n",
        "response = requests.get('https://finnhub.io/api/v1/company-news', data)"
      ],
      "execution_count": null,
      "outputs": []
    },
    {
      "cell_type": "code",
      "metadata": {
        "colab": {
          "base_uri": "https://localhost:8080/",
          "height": 1000
        },
        "id": "79v4eayL23LE",
        "outputId": "1a86f682-0422-48fe-d223-8b9023f406f7"
      },
      "source": [
        "df = pd.DataFrame.from_dict(response.json()).drop(['category', 'id', 'image', 'url'], axis=1)\r\n",
        "df['datetime'] = pd.to_datetime(df['datetime'],unit='s')\r\n",
        "df = df.set_index('datetime')\r\n",
        "df"
      ],
      "execution_count": null,
      "outputs": [
        {
          "output_type": "execute_result",
          "data": {
            "text/html": [
              "<div>\n",
              "<style scoped>\n",
              "    .dataframe tbody tr th:only-of-type {\n",
              "        vertical-align: middle;\n",
              "    }\n",
              "\n",
              "    .dataframe tbody tr th {\n",
              "        vertical-align: top;\n",
              "    }\n",
              "\n",
              "    .dataframe thead th {\n",
              "        text-align: right;\n",
              "    }\n",
              "</style>\n",
              "<table border=\"1\" class=\"dataframe\">\n",
              "  <thead>\n",
              "    <tr style=\"text-align: right;\">\n",
              "      <th></th>\n",
              "      <th>headline</th>\n",
              "      <th>related</th>\n",
              "      <th>source</th>\n",
              "      <th>summary</th>\n",
              "    </tr>\n",
              "    <tr>\n",
              "      <th>datetime</th>\n",
              "      <th></th>\n",
              "      <th></th>\n",
              "      <th></th>\n",
              "      <th></th>\n",
              "    </tr>\n",
              "  </thead>\n",
              "  <tbody>\n",
              "    <tr>\n",
              "      <th>2021-03-05 19:42:00</th>\n",
              "      <td>Vaccines Put Some Pep in the Step of Travel Stocks</td>\n",
              "      <td>CCL</td>\n",
              "      <td>MarketWatch</td>\n",
              "      <td>Stocks of airlines and cruise lines have been among the biggest victims of the pandemic. But as hopes for a recovery rise, these company have been raising...</td>\n",
              "    </tr>\n",
              "    <tr>\n",
              "      <th>2021-03-05 16:58:00</th>\n",
              "      <td>Carnival Corp. stock falls Friday, underperforms market</td>\n",
              "      <td>CCL</td>\n",
              "      <td>MarketWatch</td>\n",
              "      <td>Shares of Carnival Corp. slipped 4.78% to $26.09 Friday, on what proved to be an all-around great trading session for the stock market, with the S&amp;P 500...</td>\n",
              "    </tr>\n",
              "    <tr>\n",
              "      <th>2021-03-04 16:58:00</th>\n",
              "      <td>Carnival Corp. stock falls Thursday, underperforms market</td>\n",
              "      <td>CCL</td>\n",
              "      <td>MarketWatch</td>\n",
              "      <td>Shares of Carnival Corp. slid 4.43% to $27.40 Thursday, on what proved to be an all-around dismal trading session for the stock market, with the S&amp;P 500...</td>\n",
              "    </tr>\n",
              "    <tr>\n",
              "      <th>2021-03-03 18:40:00</th>\n",
              "      <td>Princess Cruises extends cruise pause from U.K.</td>\n",
              "      <td>CCL</td>\n",
              "      <td>MarketWatch</td>\n",
              "      <td>Carnival Corp.'s Princess Cruises said it is extending the pause of its U.K.-based cruise voyages from Southampton through Sept. 25 as cruise operators...</td>\n",
              "    </tr>\n",
              "    <tr>\n",
              "      <th>2021-03-03 16:58:00</th>\n",
              "      <td>Carnival Corp. stock outperforms competitors on strong trading day</td>\n",
              "      <td>CCL</td>\n",
              "      <td>MarketWatch</td>\n",
              "      <td>Shares of Carnival Corp. rose 3.91% to $28.67 Wednesday, on what proved to be an all-around grim trading session for the stock market, with the S&amp;P 500 Index...</td>\n",
              "    </tr>\n",
              "    <tr>\n",
              "      <th>...</th>\n",
              "      <td>...</td>\n",
              "      <td>...</td>\n",
              "      <td>...</td>\n",
              "      <td>...</td>\n",
              "    </tr>\n",
              "    <tr>\n",
              "      <th>2020-11-03 00:12:00</th>\n",
              "      <td>Carnival Corporation&amp;#39;s North American Brands Extend Pause in Cruise Operations</td>\n",
              "      <td>CCL</td>\n",
              "      <td>Yahoo</td>\n",
              "      <td>Carnival Corporation &amp; plc (NYSE/LSE: CCL; NYSE: CUK), the world's largest cruise company, today announced that its North American cruise line brands will extend their existing pause in operations, suspending cruise voyages between Dec. 1 and Dec. 31, 2020.</td>\n",
              "    </tr>\n",
              "    <tr>\n",
              "      <th>2020-11-02 23:41:50</th>\n",
              "      <td>Norwegian cancels all December cruises, sending sector lower</td>\n",
              "      <td>CCL</td>\n",
              "      <td>Yahoo</td>\n",
              "      <td>Alexis Christoforous and James Hardiman, Wedbush Leisure analyst, discuss cruise outlook after Norwegian extends cancellations.</td>\n",
              "    </tr>\n",
              "    <tr>\n",
              "      <th>2020-11-02 23:35:00</th>\n",
              "      <td>Carnival cruises to remain on hold through Dec. 31</td>\n",
              "      <td>CCL</td>\n",
              "      <td>MarketWatch</td>\n",
              "      <td>Carnival Corp. said its North American cruise brands will extend a pause in operations to Dec. 31 from Dec. 1. The company said it continues to work with the...</td>\n",
              "    </tr>\n",
              "    <tr>\n",
              "      <th>2020-11-02 22:45:10</th>\n",
              "      <td>Carnival (CCL) Stock Sinks As Market Gains: What You Should Know</td>\n",
              "      <td>CCL</td>\n",
              "      <td>Yahoo</td>\n",
              "      <td>In the latest trading session, Carnival (CCL) closed at $13.55, marking a -1.17% move from the previous day.</td>\n",
              "    </tr>\n",
              "    <tr>\n",
              "      <th>2020-11-02 20:46:49</th>\n",
              "      <td>How Large Option Traders Are Playing Carnival After CDC Lifted &amp;#39;No Sail&amp;#39; Order</td>\n",
              "      <td>CCL</td>\n",
              "      <td>Yahoo</td>\n",
              "      <td>The cruise industry still has a long way to go to get back in business.On Monday, Carnival Corp (NYSE: CCL) shares traded lower by another 2% after a new set of CDC guidelines may have bumped a potential cruise industry recovery back another quarter.A flurry of large Carnival option trades have been mixed in nature on Monday as investors struggle to determine if and when Carnival will get back to its pre-crisis earnings.The Carnival Trades: On Monday morning, Benzinga Pro subscribers received 14 option alerts related to unusually large trades of Carnival options. Here are a handful of the biggest:  * At 9:55 a.m., a trader sold 532 Carnival call options with a $15 strike price expiring in January 2022 at the bid price of $4.10. The trade represented a $218,120 bearish bet.  * At 9:56 a.m., a trader sold 930 Carnival call options with a $15 strike price expiring on Jan. 15 at the bid price of $1.38. The trade represented a $128,340 bearish bet.  * Less than a minute later, a trader sold 599 Carnival put options with a $25 strike price expiring on Jan. 15 at the bid price of $12.20. The trade represented a $730,780 bullish bet.  * At 9:58 a.m, a trader bought 532 Carnival put options with a $15 strike price expiring in January 2022 at the ask price of $6. The trade represented a $319,200 bearish bet.Of the 14 total large Carnival option trades on Monday morning, seven were calls purchased at or near the ask or puts sold at or near the bid, trades typically seen as bullish. Seven trades represented calls sold at or near the bid or puts purchased at or near the ask, trades typically seen as bearish.Why It's Important: Even traders who stick exclusively to stocks often monitor option market activity closely for unusually large trades. Given the relative complexity of the options market, large options traders are typically considered to be more sophisticated than the average stock trader.Many of these large options traders are wealthy individuals or institutions who may have unique information or theses related to the underlying stock.Unfortunately, stock traders often use the options market to hedge against their larger stock positions, and there's no surefire way to determine if an options trade is a standalone position or a hedge. In this case, given the relatively large size of the largest Carnival trades, they could potentially represent an institutional hedge.Related Link: Cruise Stocks Sink After CDC Lifts Ban, Analyst Says New Guidelines Delay RecoveryCruise Stocks Dead In The Water: The CDC lifted a total ban on cruises on Friday but implemented new measures requiring cruise lines to conduct mock voyages safely prior to gaining approval to take passengers on board. The CDC's original \"No Sail\" order was implemented back in March due to the pandemic and was extended several times.On Monday, Bank of America said the new set of CDC restrictions likely means a long, slow recovery in cruise revenue will now start in the first quarter of 2021 rather than the fourth quarter of 2020. In the meantime, Carnival and other cruise stocks are doing anything they can to stay afloat from a financial standpoint. Last quarter, Carnival reported a 99.5% drop in revenue and a $2.86 billion net loss.  CCL Chart by TradingView new TradingView.widget( { \"width\": 680, \"height\": 423, \"symbol\": \"NYSE:CCL\", \"interval\": \"D\", \"timezone\": \"Etc/UTC\", \"theme\": \"light\", \"style\": \"1\", \"locale\": \"en\", \"toolbar_bg\": \"f1f3f6\", \"enable_publishing\": false, \"allow_symbol_change\": true, \"container_id\": \"tradingview_a4267\" } ); Benzinga's Take: Carnival's 12% rally off the March lows is essentially a relief rally that the company appears to have enough liquidity to remain solvent in the near-term. However, additional upside for the stock from here may be limited if a second wave of infections continues to hurt the vacation industry and Carnival struggles to gain back its passengers in a timely manner.See more from Benzinga  * Click here for options trades from Benzinga  * Cruise Stocks Sink After CDC Lifts Ban, Analyst Says New Guidelines Delay Recovery  * Cannabis Stocks, Cruise Lines Have A Lot To Gain From A Biden Victory(C) 2020 Benzinga.com. Benzinga does not provide investment advice. All rights reserved.</td>\n",
              "    </tr>\n",
              "  </tbody>\n",
              "</table>\n",
              "<p>500 rows × 4 columns</p>\n",
              "</div>"
            ],
            "text/plain": [
              "                                                                                                   headline  ...                                                                                                                                                                                                                                                                                                                                                                                                                                                                                                                                                                                                                                                                                                                                                                                                                                                                                                                                                                                                                                                                                                                                                                                                                                                                                                                                                                                                                                                                                                                                                                                                                                                                                                                                                                                                                                                                                                                                                                                                                                                                                                                                                                                                                                                                                                                                                                                                                                                                                                                                                                                                                                                                                                                                                                                                                                                                                                                                                                                                                                                                                                                                                                                                                                                                                                                                                                                                                                                                                                                                                                                                                                                                                                                                                                                                                                                                                                                                                                                                                                                                                                                                                                                                                                                                                                                                                                                                                      summary\n",
              "datetime                                                                                                     ...                                                                                                                                                                                                                                                                                                                                                                                                                                                                                                                                                                                                                                                                                                                                                                                                                                                                                                                                                                                                                                                                                                                                                                                                                                                                                                                                                                                                                                                                                                                                                                                                                                                                                                                                                                                                                                                                                                                                                                                                                                                                                                                                                                                                                                                                                                                                                                                                                                                                                                                                                                                                                                                                                                                                                                                                                                                                                                                                                                                                                                                                                                                                                                                                                                                                                                                                                                                                                                                                                                                                                                                                                                                                                                                                                                                                                                                                                                                                                                                                                                                                                                                                                                                                                                                                                                                                                                                                                             \n",
              "2021-03-05 19:42:00                                      Vaccines Put Some Pep in the Step of Travel Stocks  ...                                                                                                                                                                                                                                                                                                                                                                                                                                                                                                                                                                                                                                                                                                                                                                                                                                                                                                                                                                                                                                                                                                                                                                                                                                                                                                                                                                                                                                                                                                                                                                                                                                                                                                                                                                                                                                                                                                                                                                                                                                                                                                                                                                                                                                                                                                                                                                                                                                                                                                                                                                                                                                                                                                                                                                                                                                                                                                                                                                                                                                                                                                                                                                                                                                                                                                                                                                                                                                                                                                                                                                                                                                                                                                                                                                                                                                                                                                                                                                                                                                                                                                                                                                                                                                                                Stocks of airlines and cruise lines have been among the biggest victims of the pandemic. But as hopes for a recovery rise, these company have been raising...\n",
              "2021-03-05 16:58:00                                 Carnival Corp. stock falls Friday, underperforms market  ...                                                                                                                                                                                                                                                                                                                                                                                                                                                                                                                                                                                                                                                                                                                                                                                                                                                                                                                                                                                                                                                                                                                                                                                                                                                                                                                                                                                                                                                                                                                                                                                                                                                                                                                                                                                                                                                                                                                                                                                                                                                                                                                                                                                                                                                                                                                                                                                                                                                                                                                                                                                                                                                                                                                                                                                                                                                                                                                                                                                                                                                                                                                                                                                                                                                                                                                                                                                                                                                                                                                                                                                                                                                                                                                                                                                                                                                                                                                                                                                                                                                                                                                                                                                                                                                                  Shares of Carnival Corp. slipped 4.78% to $26.09 Friday, on what proved to be an all-around great trading session for the stock market, with the S&P 500...\n",
              "2021-03-04 16:58:00                               Carnival Corp. stock falls Thursday, underperforms market  ...                                                                                                                                                                                                                                                                                                                                                                                                                                                                                                                                                                                                                                                                                                                                                                                                                                                                                                                                                                                                                                                                                                                                                                                                                                                                                                                                                                                                                                                                                                                                                                                                                                                                                                                                                                                                                                                                                                                                                                                                                                                                                                                                                                                                                                                                                                                                                                                                                                                                                                                                                                                                                                                                                                                                                                                                                                                                                                                                                                                                                                                                                                                                                                                                                                                                                                                                                                                                                                                                                                                                                                                                                                                                                                                                                                                                                                                                                                                                                                                                                                                                                                                                                                                                                                                                  Shares of Carnival Corp. slid 4.43% to $27.40 Thursday, on what proved to be an all-around dismal trading session for the stock market, with the S&P 500...\n",
              "2021-03-03 18:40:00                                         Princess Cruises extends cruise pause from U.K.  ...                                                                                                                                                                                                                                                                                                                                                                                                                                                                                                                                                                                                                                                                                                                                                                                                                                                                                                                                                                                                                                                                                                                                                                                                                                                                                                                                                                                                                                                                                                                                                                                                                                                                                                                                                                                                                                                                                                                                                                                                                                                                                                                                                                                                                                                                                                                                                                                                                                                                                                                                                                                                                                                                                                                                                                                                                                                                                                                                                                                                                                                                                                                                                                                                                                                                                                                                                                                                                                                                                                                                                                                                                                                                                                                                                                                                                                                                                                                                                                                                                                                                                                                                                                                                                                                                   Carnival Corp.'s Princess Cruises said it is extending the pause of its U.K.-based cruise voyages from Southampton through Sept. 25 as cruise operators...\n",
              "2021-03-03 16:58:00                      Carnival Corp. stock outperforms competitors on strong trading day  ...                                                                                                                                                                                                                                                                                                                                                                                                                                                                                                                                                                                                                                                                                                                                                                                                                                                                                                                                                                                                                                                                                                                                                                                                                                                                                                                                                                                                                                                                                                                                                                                                                                                                                                                                                                                                                                                                                                                                                                                                                                                                                                                                                                                                                                                                                                                                                                                                                                                                                                                                                                                                                                                                                                                                                                                                                                                                                                                                                                                                                                                                                                                                                                                                                                                                                                                                                                                                                                                                                                                                                                                                                                                                                                                                                                                                                                                                                                                                                                                                                                                                                                                                                                                                                                                             Shares of Carnival Corp. rose 3.91% to $28.67 Wednesday, on what proved to be an all-around grim trading session for the stock market, with the S&P 500 Index...\n",
              "...                                                                                                     ...  ...                                                                                                                                                                                                                                                                                                                                                                                                                                                                                                                                                                                                                                                                                                                                                                                                                                                                                                                                                                                                                                                                                                                                                                                                                                                                                                                                                                                                                                                                                                                                                                                                                                                                                                                                                                                                                                                                                                                                                                                                                                                                                                                                                                                                                                                                                                                                                                                                                                                                                                                                                                                                                                                                                                                                                                                                                                                                                                                                                                                                                                                                                                                                                                                                                                                                                                                                                                                                                                                                                                                                                                                                                                                                                                                                                                                                                                                                                                                                                                                                                                                                                                                                                                                                                                                                                                                                                                                                                          ...\n",
              "2020-11-03 00:12:00      Carnival Corporation&#39;s North American Brands Extend Pause in Cruise Operations  ...                                                                                                                                                                                                                                                                                                                                                                                                                                                                                                                                                                                                                                                                                                                                                                                                                                                                                                                                                                                                                                                                                                                                                                                                                                                                                                                                                                                                                                                                                                                                                                                                                                                                                                                                                                                                                                                                                                                                                                                                                                                                                                                                                                                                                                                                                                                                                                                                                                                                                                                                                                                                                                                                                                                                                                                                                                                                                                                                                                                                                                                                                                                                                                                                                                                                                                                                                                                                                                                                                                                                                                                                                                                                                                                                                                                                                                                                                                                                                                                                                                                                                                                                                            Carnival Corporation & plc (NYSE/LSE: CCL; NYSE: CUK), the world's largest cruise company, today announced that its North American cruise line brands will extend their existing pause in operations, suspending cruise voyages between Dec. 1 and Dec. 31, 2020.\n",
              "2020-11-02 23:41:50                            Norwegian cancels all December cruises, sending sector lower  ...                                                                                                                                                                                                                                                                                                                                                                                                                                                                                                                                                                                                                                                                                                                                                                                                                                                                                                                                                                                                                                                                                                                                                                                                                                                                                                                                                                                                                                                                                                                                                                                                                                                                                                                                                                                                                                                                                                                                                                                                                                                                                                                                                                                                                                                                                                                                                                                                                                                                                                                                                                                                                                                                                                                                                                                                                                                                                                                                                                                                                                                                                                                                                                                                                                                                                                                                                                                                                                                                                                                                                                                                                                                                                                                                                                                                                                                                                                                                                                                                                                                                                                                                                                                                                                                                                              Alexis Christoforous and James Hardiman, Wedbush Leisure analyst, discuss cruise outlook after Norwegian extends cancellations.\n",
              "2020-11-02 23:35:00                                      Carnival cruises to remain on hold through Dec. 31  ...                                                                                                                                                                                                                                                                                                                                                                                                                                                                                                                                                                                                                                                                                                                                                                                                                                                                                                                                                                                                                                                                                                                                                                                                                                                                                                                                                                                                                                                                                                                                                                                                                                                                                                                                                                                                                                                                                                                                                                                                                                                                                                                                                                                                                                                                                                                                                                                                                                                                                                                                                                                                                                                                                                                                                                                                                                                                                                                                                                                                                                                                                                                                                                                                                                                                                                                                                                                                                                                                                                                                                                                                                                                                                                                                                                                                                                                                                                                                                                                                                                                                                                                                                                                                                                                             Carnival Corp. said its North American cruise brands will extend a pause in operations to Dec. 31 from Dec. 1. The company said it continues to work with the...\n",
              "2020-11-02 22:45:10                        Carnival (CCL) Stock Sinks As Market Gains: What You Should Know  ...                                                                                                                                                                                                                                                                                                                                                                                                                                                                                                                                                                                                                                                                                                                                                                                                                                                                                                                                                                                                                                                                                                                                                                                                                                                                                                                                                                                                                                                                                                                                                                                                                                                                                                                                                                                                                                                                                                                                                                                                                                                                                                                                                                                                                                                                                                                                                                                                                                                                                                                                                                                                                                                                                                                                                                                                                                                                                                                                                                                                                                                                                                                                                                                                                                                                                                                                                                                                                                                                                                                                                                                                                                                                                                                                                                                                                                                                                                                                                                                                                                                                                                                                                                                                                                                                                                                 In the latest trading session, Carnival (CCL) closed at $13.55, marking a -1.17% move from the previous day.\n",
              "2020-11-02 20:46:49  How Large Option Traders Are Playing Carnival After CDC Lifted &#39;No Sail&#39; Order  ...  The cruise industry still has a long way to go to get back in business.On Monday, Carnival Corp (NYSE: CCL) shares traded lower by another 2% after a new set of CDC guidelines may have bumped a potential cruise industry recovery back another quarter.A flurry of large Carnival option trades have been mixed in nature on Monday as investors struggle to determine if and when Carnival will get back to its pre-crisis earnings.The Carnival Trades: On Monday morning, Benzinga Pro subscribers received 14 option alerts related to unusually large trades of Carnival options. Here are a handful of the biggest:  * At 9:55 a.m., a trader sold 532 Carnival call options with a $15 strike price expiring in January 2022 at the bid price of $4.10. The trade represented a $218,120 bearish bet.  * At 9:56 a.m., a trader sold 930 Carnival call options with a $15 strike price expiring on Jan. 15 at the bid price of $1.38. The trade represented a $128,340 bearish bet.  * Less than a minute later, a trader sold 599 Carnival put options with a $25 strike price expiring on Jan. 15 at the bid price of $12.20. The trade represented a $730,780 bullish bet.  * At 9:58 a.m, a trader bought 532 Carnival put options with a $15 strike price expiring in January 2022 at the ask price of $6. The trade represented a $319,200 bearish bet.Of the 14 total large Carnival option trades on Monday morning, seven were calls purchased at or near the ask or puts sold at or near the bid, trades typically seen as bullish. Seven trades represented calls sold at or near the bid or puts purchased at or near the ask, trades typically seen as bearish.Why It's Important: Even traders who stick exclusively to stocks often monitor option market activity closely for unusually large trades. Given the relative complexity of the options market, large options traders are typically considered to be more sophisticated than the average stock trader.Many of these large options traders are wealthy individuals or institutions who may have unique information or theses related to the underlying stock.Unfortunately, stock traders often use the options market to hedge against their larger stock positions, and there's no surefire way to determine if an options trade is a standalone position or a hedge. In this case, given the relatively large size of the largest Carnival trades, they could potentially represent an institutional hedge.Related Link: Cruise Stocks Sink After CDC Lifts Ban, Analyst Says New Guidelines Delay RecoveryCruise Stocks Dead In The Water: The CDC lifted a total ban on cruises on Friday but implemented new measures requiring cruise lines to conduct mock voyages safely prior to gaining approval to take passengers on board. The CDC's original \"No Sail\" order was implemented back in March due to the pandemic and was extended several times.On Monday, Bank of America said the new set of CDC restrictions likely means a long, slow recovery in cruise revenue will now start in the first quarter of 2021 rather than the fourth quarter of 2020. In the meantime, Carnival and other cruise stocks are doing anything they can to stay afloat from a financial standpoint. Last quarter, Carnival reported a 99.5% drop in revenue and a $2.86 billion net loss.  CCL Chart by TradingView new TradingView.widget( { \"width\": 680, \"height\": 423, \"symbol\": \"NYSE:CCL\", \"interval\": \"D\", \"timezone\": \"Etc/UTC\", \"theme\": \"light\", \"style\": \"1\", \"locale\": \"en\", \"toolbar_bg\": \"f1f3f6\", \"enable_publishing\": false, \"allow_symbol_change\": true, \"container_id\": \"tradingview_a4267\" } ); Benzinga's Take: Carnival's 12% rally off the March lows is essentially a relief rally that the company appears to have enough liquidity to remain solvent in the near-term. However, additional upside for the stock from here may be limited if a second wave of infections continues to hurt the vacation industry and Carnival struggles to gain back its passengers in a timely manner.See more from Benzinga  * Click here for options trades from Benzinga  * Cruise Stocks Sink After CDC Lifts Ban, Analyst Says New Guidelines Delay Recovery  * Cannabis Stocks, Cruise Lines Have A Lot To Gain From A Biden Victory(C) 2020 Benzinga.com. Benzinga does not provide investment advice. All rights reserved.\n",
              "\n",
              "[500 rows x 4 columns]"
            ]
          },
          "metadata": {
            "tags": []
          },
          "execution_count": 5
        }
      ]
    },
    {
      "cell_type": "markdown",
      "metadata": {
        "id": "186YCAt_bTfC"
      },
      "source": [
        "Lower case:"
      ]
    },
    {
      "cell_type": "code",
      "metadata": {
        "colab": {
          "base_uri": "https://localhost:8080/"
        },
        "id": "fOUrfEjiUEig",
        "outputId": "6f659f59-408c-487f-e024-0c29400e0c3f"
      },
      "source": [
        "headlines = df.headline\r\n",
        "\r\n",
        "for i in range(len(headlines)):\r\n",
        "  headlines[i] = headlines[i].lower()\r\n",
        "\r\n",
        "print(headlines)"
      ],
      "execution_count": null,
      "outputs": [
        {
          "output_type": "stream",
          "text": [
            "datetime\n",
            "2021-03-05 19:42:00                                        vaccines put some pep in the step of travel stocks\n",
            "2021-03-05 16:58:00                                   carnival corp. stock falls friday, underperforms market\n",
            "2021-03-04 16:58:00                                 carnival corp. stock falls thursday, underperforms market\n",
            "2021-03-03 18:40:00                                           princess cruises extends cruise pause from u.k.\n",
            "2021-03-03 16:58:00                        carnival corp. stock outperforms competitors on strong trading day\n",
            "                                                                ...                                          \n",
            "2020-11-03 00:12:00        carnival corporation&#39;s north american brands extend pause in cruise operations\n",
            "2020-11-02 23:41:50                              norwegian cancels all december cruises, sending sector lower\n",
            "2020-11-02 23:35:00                                        carnival cruises to remain on hold through dec. 31\n",
            "2020-11-02 22:45:10                          carnival (ccl) stock sinks as market gains: what you should know\n",
            "2020-11-02 20:46:49    how large option traders are playing carnival after cdc lifted &#39;no sail&#39; order\n",
            "Name: headline, Length: 500, dtype: object\n"
          ],
          "name": "stdout"
        }
      ]
    },
    {
      "cell_type": "markdown",
      "metadata": {
        "id": "HMoogfs1bV9S"
      },
      "source": [
        "Lemmatization:"
      ]
    },
    {
      "cell_type": "code",
      "metadata": {
        "id": "eVytowm_3xTT"
      },
      "source": [
        "# # Install spaCy (run in terminal/prompt)\r\n",
        "import sys\r\n",
        "# !{sys.executable} -m pip install spacy\r\n",
        "\r\n",
        "# # Download spaCy's  'en' Model\r\n",
        "# !{sys.executable} -m spacy download en"
      ],
      "execution_count": null,
      "outputs": []
    },
    {
      "cell_type": "code",
      "metadata": {
        "colab": {
          "base_uri": "https://localhost:8080/"
        },
        "id": "zBgDAHr9fwTD",
        "outputId": "dde9ca03-81bc-445c-acbe-6e81f5cc51a6"
      },
      "source": [
        "import spacy\r\n",
        "\r\n",
        "def lemmatize(sentence):\r\n",
        "  # Initialize spacy 'en' model, keeping only tagger component needed for lemmatization\r\n",
        "  nlp = spacy.load('en', disable=['parser', 'ner'])\r\n",
        "\r\n",
        "  # Parse the sentence using the loaded 'en' model object `nlp`\r\n",
        "  doc = nlp(sentence)\r\n",
        "\r\n",
        "  # Extract the lemma for each token and join\r\n",
        "  return \" \".join([token.lemma_ for token in doc])\r\n",
        "\r\n",
        "for i in range(len(headlines)):\r\n",
        "  headlines[i] = lemmatize(headlines[i])\r\n",
        "\r\n",
        "print(headlines)"
      ],
      "execution_count": null,
      "outputs": [
        {
          "output_type": "stream",
          "text": [
            "datetime\n",
            "2021-03-05 19:42:00                                      vaccine put some pep in the step of travel stock\n",
            "2021-03-05 16:58:00                               carnival corp . stock fall friday , underperform market\n",
            "2021-03-04 16:58:00                             carnival corp . stock fall thursday , underperform market\n",
            "2021-03-03 18:40:00                                        princess cruise extend cruise pause from u.k .\n",
            "2021-03-03 16:58:00                     carnival corp . stock outperform competitor on strong trading day\n",
            "                                                              ...                                        \n",
            "2020-11-03 00:12:00      carnival corporation&#39;s north american brand extend pause in cruise operation\n",
            "2020-11-02 23:41:50                              norwegian cancel all december cruise , send sector lower\n",
            "2020-11-02 23:35:00                                    carnival cruise to remain on hold through dec . 31\n",
            "2020-11-02 22:45:10                  carnival ( ccl ) stock sink as market gain : what -PRON- should know\n",
            "2020-11-02 20:46:49    how large option trader be play carnival after cdc lift & # 39;no sail&#39 ; order\n",
            "Name: headline, Length: 500, dtype: object\n"
          ],
          "name": "stdout"
        }
      ]
    }
  ]
}